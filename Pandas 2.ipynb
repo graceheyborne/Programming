{
 "cells": [
  {
   "cell_type": "code",
   "execution_count": 1,
   "id": "24472e68-802b-4bdd-abbb-2d30ae71a061",
   "metadata": {},
   "outputs": [],
   "source": [
    "#Import libraries \n",
    "import pandas as pd\n",
    "import matplotlib.pyplot as plt\n",
    "import numpy as np"
   ]
  },
  {
   "cell_type": "code",
   "execution_count": 2,
   "id": "3927b82b-4f6c-463b-a0b8-0dd249e4c23b",
   "metadata": {},
   "outputs": [
    {
     "name": "stdout",
     "output_type": "stream",
     "text": [
      "Euclidean distance: 18.16590212458495\n"
     ]
    }
   ],
   "source": [
    "##QUESTION 1 Compute the euclidean distance between series (points) p and q, without using a packaged formula.\n",
    "p = pd.Series([1, 2, 3, 4, 5, 6, 7, 8, 9, 10])\n",
    "q = pd.Series([10, 9, 8, 7, 6, 5, 4, 3, 2, 1])\n",
    "#find (p - q)^2 for each and add together\n",
    "value_inside_sqrt = 0\n",
    "for i in range(len(p)):\n",
    "    value_inside_sqrt += (p[i] - q[i]) ** 2\n",
    "#take the square root of the sum\n",
    "sqrt = value_inside_sqrt ** 0.5\n",
    "print(\"Euclidean distance:\", sqrt)"
   ]
  },
  {
   "cell_type": "code",
   "execution_count": 3,
   "id": "189d635c-e383-4b40-b2c7-8e3b217970fe",
   "metadata": {},
   "outputs": [
    {
     "name": "stdout",
     "output_type": "stream",
     "text": [
      "ORIGINAL DF\n",
      "    a   b   c   d   e\n",
      "0   0   1   2   3   4\n",
      "1   5   6   7   8   9\n",
      "2  10  11  12  13  14\n",
      "3  15  16  17  18  19\n",
      "NEW INTERCHANGE DF\n",
      "    c   b   a   d   e\n",
      "0   2   1   0   3   4\n",
      "1   7   6   5   8   9\n",
      "2  12  11  10  13  14\n",
      "3  17  16  15  18  19\n"
     ]
    }
   ],
   "source": [
    "##QUESTION 2 Change the order of columns of a dataframe, interchange columns 'a' and 'c'.\n",
    "df = pd.DataFrame(np.arange(20).reshape(-1, 5), columns=list('abcde'))\n",
    "print(\"ORIGINAL DF\")\n",
    "print(df)\n",
    "new_order = ['c', 'b', 'a', 'd', 'e']\n",
    "print(\"NEW INTERCHANGE DF\")\n",
    "new_df = df[new_order]\n",
    "print(new_df)"
   ]
  },
  {
   "cell_type": "code",
   "execution_count": 4,
   "id": "970b99ba-de61-4795-afab-95391dc92a0a",
   "metadata": {},
   "outputs": [
    {
     "name": "stdout",
     "output_type": "stream",
     "text": [
      "ORIGINAL DF\n",
      "    a   b   c   d   e\n",
      "0   0   1   2   3   4\n",
      "1   5   6   7   8   9\n",
      "2  10  11  12  13  14\n",
      "3  15  16  17  18  19\n",
      "NEW DF USING INTERCHANGE FUNCTION\n",
      "    c   b   a   d   e\n",
      "0   2   1   0   3   4\n",
      "1   7   6   5   8   9\n",
      "2  12  11  10  13  14\n",
      "3  17  16  15  18  19\n"
     ]
    }
   ],
   "source": [
    "##QUESTION 3 Create a generic function to interchange two columns, without hardcoding column names.\n",
    "df = pd.DataFrame(np.arange(20).reshape(-1, 5), columns=list('abcde'))\n",
    "print(\"ORIGINAL DF\")\n",
    "print(df)\n",
    "\n",
    "switch_this = 'a'\n",
    "with_this = 'c'\n",
    "\n",
    "def switch_columns(df, first_column, second_column):\n",
    "    #create a list of columns\n",
    "    columns = list(df.columns)\n",
    "    #find the index of column 1 and 2\n",
    "    first_column_index, second_column_index = columns.index(first_column), columns.index(second_column)\n",
    "    #swap the columns\n",
    "    columns[first_column_index], columns[second_column_index] = columns[second_column_index], columns[first_column_index]\n",
    "    return df[columns] \n",
    "    \n",
    "new_function_df = switch_columns(df, switch_this, with_this)\n",
    "\n",
    "print(\"NEW DF USING INTERCHANGE FUNCTION\")\n",
    "print(new_function_df)"
   ]
  },
  {
   "cell_type": "code",
   "execution_count": 5,
   "id": "e0b2e883-eefb-4835-901c-6d834bdc4865",
   "metadata": {},
   "outputs": [
    {
     "name": "stdout",
     "output_type": "stream",
     "text": [
      "DF ROUNDED TO 4 DECIMALS\n",
      "   random\n",
      "0  0.0116\n",
      "1  0.0541\n",
      "2  0.0006\n",
      "3  0.0000\n"
     ]
    }
   ],
   "source": [
    "##QUESTION 4 Suppress scientific notations like ‘e-03’ in df and print up to 4 numbers after decimal.\n",
    "df = pd.DataFrame(np.random.random(4)**10, columns=['random'])\n",
    "#supress scientific notation by only allowing 4 decimal places using .set_option\n",
    "pd.set_option('display.float_format', '{:.4f}'.format)\n",
    "#round\n",
    "rounded_df = df.round(4)\n",
    "print(\"DF ROUNDED TO 4 DECIMALS\")\n",
    "print(rounded_df)"
   ]
  },
  {
   "cell_type": "code",
   "execution_count": 6,
   "id": "5eb64787-4828-47df-a551-99c8a8fdf355",
   "metadata": {},
   "outputs": [
    {
     "name": "stdout",
     "output_type": "stream",
     "text": [
      "COMPARISON OF EUCLIDEAN DISTANCES\n",
      "    p   q   r   s nearest_row  distance\n",
      "a  57  50  69  76           b   24.6982\n",
      "b  54  59  63  54           a   24.6982\n",
      "c  60  48  20  34           i   40.9268\n",
      "d  20  91  74  30           h   40.1123\n",
      "e  94  69  53  67           b   44.3734\n",
      "f  23  93  21  64           d   63.0714\n",
      "g  74  53  65  19           b   40.8044\n",
      "h  56  97  60  21           d   40.1123\n",
      "i  41  35   9   2           c   40.9268\n",
      "j  23  46  59  97           a   41.3884\n"
     ]
    }
   ],
   "source": [
    "##QUESTION 5\n",
    "#Create a new column that contains the row number of nearest column by euclidean distance. \n",
    "#Create a new column such that, each row contains the row number of nearest row-record by euclidean distance.\n",
    "df = pd.DataFrame(np.random.randint(1,100, 40).reshape(10, -1), columns=list('pqrs'), index=list('abcdefghij'))\n",
    "\n",
    "#initialize empty lists\n",
    "nearest_rows = []\n",
    "distance = []\n",
    "#iterate across the rows in df\n",
    "for i, row in df.iterrows():\n",
    "    first_row = row\n",
    "    second_row = df.drop(i)\n",
    "    euclidean_dists = {} \n",
    "    for j, contestant in second_row.iterrows():\n",
    "        #calculate the euclidean distance between the two rows\n",
    "        dist = np.linalg.norm(first_row.values - contestant.values)\n",
    "        euclidean_dists[j] = dist\n",
    "    #append the values\n",
    "    nearest_rows.append(min(euclidean_dists, key=euclidean_dists.get))\n",
    "    distance.append(min(euclidean_dists.values()))\n",
    "#create new columns\n",
    "df['nearest_row'] = nearest_rows\n",
    "df['distance'] = distance\n",
    "print(\"COMPARISON OF EUCLIDEAN DISTANCES\")\n",
    "print(df)"
   ]
  },
  {
   "cell_type": "code",
   "execution_count": 7,
   "id": "457954e0-61f3-49b3-950f-fba5dad65b98",
   "metadata": {},
   "outputs": [
    {
     "name": "stdout",
     "output_type": "stream",
     "text": [
      "ORIGINAL DF\n",
      "    A   B    C   D       E\n",
      "0  45  38   10  60 76.0000\n",
      "1  37  31   15  99 98.0000\n",
      "2   0   1  -10  15 -0.0300\n",
      "3  42  26   17  23 78.0000\n",
      "4  50  90  100  56 90.0000\n",
      "CORRELATION MATRIX DF\n",
      "       A      B      C      D      E\n",
      "A 1.0000 0.7560 0.6244 0.4938 0.9286\n",
      "B 0.7560 1.0000 0.9667 0.3636 0.6496\n",
      "C 0.6244 0.9667 1.0000 0.2189 0.5281\n",
      "D 0.4938 0.3636 0.2189 1.0000 0.7202\n",
      "E 0.9286 0.6496 0.5281 0.7202 1.0000\n"
     ]
    }
   ],
   "source": [
    "##QUESTION 6 dataframe.corr() method is used for creating the correlation matrix.\n",
    "#unsure what was being asked, so I put the data into a data frame and created a correlation matrix.\n",
    "data = {'A': [45, 37, 0, 42, 50],\n",
    "        'B': [38, 31, 1, 26, 90],\n",
    "        'C': [10, 15, -10, 17, 100],\n",
    "        'D': [60, 99, 15, 23, 56],\n",
    "        'E': [76, 98, -0.03, 78, 90]\n",
    "        }\n",
    "df = pd.DataFrame(data)\n",
    "print(\"ORIGINAL DF\")\n",
    "print(df)\n",
    "corr_matrix = df.corr()\n",
    "print(\"CORRELATION MATRIX DF\")\n",
    "print(corr_matrix)"
   ]
  }
 ],
 "metadata": {
  "kernelspec": {
   "display_name": "Python 3 (ipykernel)",
   "language": "python",
   "name": "python3"
  },
  "language_info": {
   "codemirror_mode": {
    "name": "ipython",
    "version": 3
   },
   "file_extension": ".py",
   "mimetype": "text/x-python",
   "name": "python",
   "nbconvert_exporter": "python",
   "pygments_lexer": "ipython3",
   "version": "3.13.0"
  }
 },
 "nbformat": 4,
 "nbformat_minor": 5
}
