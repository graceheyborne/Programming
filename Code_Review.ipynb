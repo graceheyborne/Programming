{
 "cells": [
  {
   "cell_type": "code",
   "execution_count": null,
   "id": "efe4d470-79d5-4da8-a2f8-80fa1a101036",
   "metadata": {},
   "outputs": [],
   "source": [
    "##Advanced Logic Quiz Question 1 \n",
    "\n",
    "#Given the following code, which functions would you have access to in the console?"
   ]
  },
  {
   "cell_type": "code",
   "execution_count": 9,
   "id": "1476e3c2-9644-4976-866a-5e1c1d1e23e8",
   "metadata": {},
   "outputs": [
    {
     "name": "stdout",
     "output_type": "stream",
     "text": [
      "9\n"
     ]
    }
   ],
   "source": [
    "def fun1(n):\n",
    "    n = n +1\n",
    "    def fun2(n):\n",
    "        n = n+ 3\n",
    "        return n\n",
    "    return fun2(n)\n",
    "\n",
    "access_fun1 = fun1(5)\n",
    "print(access_fun1)"
   ]
  },
  {
   "cell_type": "code",
   "execution_count": 1,
   "id": "c9eedd51-8887-488b-bcfe-3340d4aa49f8",
   "metadata": {},
   "outputs": [
    {
     "ename": "NameError",
     "evalue": "name 'fun2' is not defined",
     "output_type": "error",
     "traceback": [
      "\u001b[0;31m---------------------------------------------------------------------------\u001b[0m",
      "\u001b[0;31mNameError\u001b[0m                                 Traceback (most recent call last)",
      "Cell \u001b[0;32mIn[1], line 8\u001b[0m\n\u001b[1;32m      5\u001b[0m         \u001b[38;5;28;01mreturn\u001b[39;00m n\n\u001b[1;32m      6\u001b[0m     \u001b[38;5;28;01mreturn\u001b[39;00m fun2(n)\n\u001b[0;32m----> 8\u001b[0m access_fun2 \u001b[38;5;241m=\u001b[39m \u001b[43mfun2\u001b[49m(\u001b[38;5;241m5\u001b[39m)\n\u001b[1;32m      9\u001b[0m \u001b[38;5;28mprint\u001b[39m(access_fun2)\n",
      "\u001b[0;31mNameError\u001b[0m: name 'fun2' is not defined"
     ]
    }
   ],
   "source": [
    "def fun1(n):\n",
    "    n = n +1\n",
    "    def fun2(n):\n",
    "        n = n+ 3\n",
    "        return n\n",
    "    return fun2(n)\n",
    "\n",
    "access_fun2 = fun2(5)\n",
    "print(access_fun2)"
   ]
  },
  {
   "cell_type": "code",
   "execution_count": null,
   "id": "bcde137d-36d0-4cd5-ae32-6ab980ea5bc3",
   "metadata": {},
   "outputs": [],
   "source": [
    "##Advanced Logic Assignment Question 3 \n",
    "\n",
    "#Write a python program that, given an input list, uses a standard function to filter the input above a user defined threshold."
   ]
  },
  {
   "cell_type": "code",
   "execution_count": 3,
   "id": "0252fa4d-47df-4ba0-9389-346500a83085",
   "metadata": {
    "scrolled": true
   },
   "outputs": [
    {
     "data": {
      "text/plain": [
       "[1, 2, 3, 4, 5, 6, 7]"
      ]
     },
     "execution_count": 3,
     "metadata": {},
     "output_type": "execute_result"
    }
   ],
   "source": [
    "input_list = [1,2,3,4,5,6,7,8,9]\n",
    "threshold = 7\n",
    "\n",
    "def threshold_function(input_list, threshold):\n",
    "    new_list = []\n",
    "    for x in input_list:\n",
    "        if x <= threshold:\n",
    "            new_list.append(x)\n",
    "    return new_list\n",
    "\n",
    "threshold_function(input_list, threshold)"
   ]
  }
 ],
 "metadata": {
  "kernelspec": {
   "display_name": "Python 3 (ipykernel)",
   "language": "python",
   "name": "python3"
  },
  "language_info": {
   "codemirror_mode": {
    "name": "ipython",
    "version": 3
   },
   "file_extension": ".py",
   "mimetype": "text/x-python",
   "name": "python",
   "nbconvert_exporter": "python",
   "pygments_lexer": "ipython3",
   "version": "3.13.0"
  }
 },
 "nbformat": 4,
 "nbformat_minor": 5
}
