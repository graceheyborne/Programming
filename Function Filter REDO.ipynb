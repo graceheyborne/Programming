{
 "cells": [
  {
   "cell_type": "code",
   "execution_count": 1,
   "id": "ae9ef229-6aad-4c9c-a84d-4b30bff51d3f",
   "metadata": {},
   "outputs": [
    {
     "data": {
      "text/plain": [
       "[1, 2, 3, 4, 5, 6, 7]"
      ]
     },
     "execution_count": 1,
     "metadata": {},
     "output_type": "execute_result"
    }
   ],
   "source": [
    "input_list = [1,2,3,4,5,6,7,8,9]\n",
    "threshold = 7\n",
    "\n",
    "def threshold_function(input_list, threshold):\n",
    "    new_list = []\n",
    "    for x in input_list:\n",
    "        if x <= threshold:\n",
    "            new_list.append(x)\n",
    "    return new_list\n",
    "\n",
    "threshold_function(input_list, threshold)"
   ]
  }
 ],
 "metadata": {
  "kernelspec": {
   "display_name": "Python 3 (ipykernel)",
   "language": "python",
   "name": "python3"
  },
  "language_info": {
   "codemirror_mode": {
    "name": "ipython",
    "version": 3
   },
   "file_extension": ".py",
   "mimetype": "text/x-python",
   "name": "python",
   "nbconvert_exporter": "python",
   "pygments_lexer": "ipython3",
   "version": "3.13.0"
  }
 },
 "nbformat": 4,
 "nbformat_minor": 5
}
