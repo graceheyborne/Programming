{
 "cells": [
  {
   "cell_type": "code",
   "execution_count": 1,
   "id": "bea51698-9a8f-4174-b764-4fdeabe2a550",
   "metadata": {},
   "outputs": [],
   "source": [
    "#import libraries\n",
    "import pandas as pd\n",
    "import matplotlib.pyplot as plt\n",
    "import numpy as np"
   ]
  },
  {
   "cell_type": "code",
   "execution_count": 2,
   "id": "e8e99d15-ac21-490b-99a2-01475b2ac872",
   "metadata": {},
   "outputs": [],
   "source": [
    "#import data\n",
    "flights_data = pd.read_csv('/Users/u1100249/Desktop/flights.csv')\n",
    "flights_data.head(10)\n",
    "weather_data_pd = pd.read_csv('/Users/u1100249/Desktop/weather.csv')\n",
    "weather_data_np = weather_data_pd.to_numpy()"
   ]
  },
  {
   "cell_type": "code",
   "execution_count": 3,
   "id": "5f77a438-b43f-4083-a99c-b77c1bd4be5c",
   "metadata": {},
   "outputs": [
    {
     "name": "stdout",
     "output_type": "stream",
     "text": [
      "flights from JFK to SLC: 2113\n"
     ]
    }
   ],
   "source": [
    "##Question 1: How many flights were there from JFK to SLC?\n",
    "flight_count = len(flights_data[(flights_data['origin'] == 'JFK') & (flights_data['dest'] == 'SLC')])\n",
    "print(\"flights from JFK to SLC:\", flight_count)"
   ]
  },
  {
   "cell_type": "code",
   "execution_count": 4,
   "id": "5d734ab8-3c2f-4931-984f-dc858d1b6bce",
   "metadata": {},
   "outputs": [
    {
     "name": "stdout",
     "output_type": "stream",
     "text": [
      "number of airlines that flew to SLC: 2\n"
     ]
    }
   ],
   "source": [
    "##Question 2 How many airlines fly to SLC?\n",
    "flights_to_SLC = flights_data[flights_data['dest'] == 'SLC']\n",
    "#use .nunique() to count unique values\n",
    "carrier_count = flights_to_SLC['carrier'].nunique()\n",
    "print(\"number of airlines that flew to SLC:\", carrier_count)"
   ]
  },
  {
   "cell_type": "code",
   "execution_count": 14,
   "id": "55ef1cac-908e-49f7-807b-f0d80193e1c5",
   "metadata": {},
   "outputs": [
    {
     "name": "stdout",
     "output_type": "stream",
     "text": [
      "average arrival delay for flights to RDU: 10.052380952380952\n"
     ]
    }
   ],
   "source": [
    "##Question 3 What is the average arrival delay for flights to RDU?\n",
    "flights_to_RDU = flights_data[(flights_data['dest'] == 'RDU')]\n",
    "#use .mean() to average the arrival delay times\n",
    "average_arr_delay = flights_to_RDU['arr_delay'].mean()\n",
    "print(\"average arrival delay for flights to RDU:\", average_arr_delay)"
   ]
  },
  {
   "cell_type": "code",
   "execution_count": 17,
   "id": "9b7e170b-3745-481e-8267-5ccecdbaca47",
   "metadata": {},
   "outputs": [
    {
     "name": "stdout",
     "output_type": "stream",
     "text": [
      "proportion of flights to SEA that are from NYC: 0.5332653581442773\n"
     ]
    }
   ],
   "source": [
    "##Question 4 What proportion of flights to SEA come from the two NYC airports (LGA and JFK)? float\n",
    "#find the number of total flights to SEA\n",
    "flights_to_SEA = len(flights_data[(flights_data['dest'] == 'SEA')])\n",
    "#find the number of flights to SEA from NYC\n",
    "flights_from_NYC = len(flights_data[\n",
    "                         ((flights_data['origin'] == 'LGA') | \n",
    "                         (flights_data['origin'] == 'JFK')) & \n",
    "                         (flights_data['dest'] == 'SEA')])\n",
    "\n",
    "#divide the number of flights from NYC by the total number of flights to SEA\n",
    "print(\"proportion of flights to SEA that are from NYC:\", flights_from_NYC / flights_to_SEA)"
   ]
  },
  {
   "cell_type": "code",
   "execution_count": 7,
   "id": "c12de58c-3592-43b0-8862-480e14c1cf77",
   "metadata": {},
   "outputs": [
    {
     "name": "stdout",
     "output_type": "stream",
     "text": [
      "2013/03/08 has the longest flight departure delay time with an average of 83.5369211514393\n"
     ]
    }
   ],
   "source": [
    "##Question 5 Which date has the largest average depature delay?\n",
    "#create date column with y/m/d format\n",
    "flights_data['flight_date'] = pd.to_datetime(flights_data[['year', 'month', 'day']])\n",
    "flights_data['formatted_date'] = flights_data['flight_date'].dt.strftime('%Y/%m/%d')\n",
    "#calculate the average depature delay per date with .mean()\n",
    "avg_delay = flights_data.groupby('formatted_date')['dep_delay'].mean()\n",
    "#find the date with the largest average departure delay with .idxmax()\n",
    "date_max_dep_delay = avg_delay.idxmax()\n",
    "#find the average departure delay on that date using .loc\n",
    "value_max_dep_delay = avg_delay.loc[date_max_dep_delay]\n",
    "print(date_max_dep_delay, \"has the longest flight departure delay time with an average of\", value_max_dep_delay)"
   ]
  },
  {
   "cell_type": "code",
   "execution_count": 8,
   "id": "14b42273-956f-4f19-b701-45c51257e3be",
   "metadata": {},
   "outputs": [
    {
     "name": "stdout",
     "output_type": "stream",
     "text": [
      "2013/03/08 has the longest flight arrival delay time with an average of 85.86215538847118\n"
     ]
    }
   ],
   "source": [
    "##Question 6 Which date has the largest average arrival delay?\n",
    "#calculate the average arrival delay per date with .groupby and .mean()\n",
    "avg_arrival = flights_data.groupby('formatted_date')['arr_delay'].mean()\n",
    "#find the date with the largest average arrival delay with .idxmax()\n",
    "date_max_arr_delay = avg_arrival.idxmax()\n",
    "#find the average arrival delay on that date using .loc\n",
    "value_max_arr_delay = avg_arrival.loc[date_max_arr_delay]\n",
    "print(date_max_arr_delay, \"has the longest flight arrival delay time with an average of\", value_max_arr_delay)"
   ]
  },
  {
   "cell_type": "code",
   "execution_count": 9,
   "id": "20f79978-0235-4e6e-93ca-ec4776078339",
   "metadata": {},
   "outputs": [
    {
     "name": "stdout",
     "output_type": "stream",
     "text": [
      "flight number N804JB was the fastest leaving LGA/JFK in 2013 with a speed of 7.322475570032573\n"
     ]
    }
   ],
   "source": [
    "##Question 7 Which flight departing LGA or JFK in 2013 flew the fastest?\n",
    "#find flights in 2013 from LGA and JFK\n",
    "flights_in_2013 = flights_data[(flights_data['year'] == 2013)]\n",
    "flights_from_NYC = flights_in_2013[\n",
    "                         (flights_data['origin'] == 'LGA') | \n",
    "                         (flights_data['origin'] == 'JFK')\n",
    "                        ]\n",
    "#of those flights find which was the fastest, then determine flight number and speed\n",
    "fastest_flight = flights_from_NYC.loc[flights_from_NYC['arr_time'].idxmin()]\n",
    "print(\"flight number\", fastest_flight['tailnum'], \"was the fastest leaving LGA/JFK in 2013 with a speed of\", fastest_flight['distance'] / fastest_flight['air_time'])"
   ]
  },
  {
   "cell_type": "code",
   "execution_count": 10,
   "id": "c02a96f3-82d2-4534-91a1-3ef3b8284317",
   "metadata": {},
   "outputs": [
    {
     "name": "stdout",
     "output_type": "stream",
     "text": [
      "no nan in weather_data_pd\n"
     ]
    }
   ],
   "source": [
    "##Question 8 Replace all nans in the weather pd dataframe with 0s.\n",
    "#replace nans with 0 using .fillna\n",
    "weather_data_pd.fillna(0, inplace=True)\n",
    "#Test if Nan is still in dataframe\n",
    "nan_exists = weather_data_pd.isna().any().any()\n",
    "if nan_exists:\n",
    "    print(\"nan still in weather_data_pd\")\n",
    "else:\n",
    "    print(\"no nan in weather_data_pd\")"
   ]
  },
  {
   "cell_type": "code",
   "execution_count": 18,
   "id": "9022e22e-9f25-4e82-9641-12bbdd0fea03",
   "metadata": {},
   "outputs": [
    {
     "name": "stdout",
     "output_type": "stream",
     "text": [
      "there were 671 observations in February\n"
     ]
    }
   ],
   "source": [
    "##Question 9 How many observations were made in Feburary in weather_data.np? \n",
    "#calculate the number of observations when column 4 (month) equals 2 (february)\n",
    "observations = len(weather_data_np[(weather_data_np[:, 3] == 2)])\n",
    "print(\"there were\", observations, \"observations in February\")"
   ]
  },
  {
   "cell_type": "code",
   "execution_count": 12,
   "id": "2282c742-05a2-4a4a-9bd0-05a3e5e97809",
   "metadata": {},
   "outputs": [
    {
     "name": "stdout",
     "output_type": "stream",
     "text": [
      "the average humidity in February was: 62.918152011922515\n"
     ]
    }
   ],
   "source": [
    "##Question 10 What was the mean for humidity in February?\n",
    "#calculate the average of column 9 (humidity) when column 4 (month) equals 2 (february)\n",
    "observations = weather_data_np[(weather_data_np[:, 3] == 2)]\n",
    "avg_humidity = observations[:, 8].mean()\n",
    "print(\"the average humidity in February was:\", avg_humidity)"
   ]
  },
  {
   "cell_type": "code",
   "execution_count": 13,
   "id": "4e5f6b1b-b7f3-4e22-b55f-2b36ba884df2",
   "metadata": {},
   "outputs": [
    {
     "name": "stdout",
     "output_type": "stream",
     "text": [
      "the average std for humidity in February was 20.33690087674334\n"
     ]
    }
   ],
   "source": [
    "##Question 11 What was the std for humidity in February?\n",
    "#calculate the std of column 9 (humidity) when column 4 (month) equals 2 (february)\n",
    "observations = weather_data_np[(weather_data_np[:, 3] == 2)]\n",
    "std_humidity = np.std(observations[:, 8])\n",
    "print(\"the average std for humidity in February was\", std_humidity)"
   ]
  }
 ],
 "metadata": {
  "kernelspec": {
   "display_name": "Python 3 (ipykernel)",
   "language": "python",
   "name": "python3"
  },
  "language_info": {
   "codemirror_mode": {
    "name": "ipython",
    "version": 3
   },
   "file_extension": ".py",
   "mimetype": "text/x-python",
   "name": "python",
   "nbconvert_exporter": "python",
   "pygments_lexer": "ipython3",
   "version": "3.13.0"
  }
 },
 "nbformat": 4,
 "nbformat_minor": 5
}
