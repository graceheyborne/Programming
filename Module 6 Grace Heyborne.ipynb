{
 "cells": [
  {
   "cell_type": "code",
   "execution_count": 1,
   "id": "7a830c65-e4a4-4ebf-880f-e2118b8e1fd8",
   "metadata": {},
   "outputs": [
    {
     "name": "stdout",
     "output_type": "stream",
     "text": [
      "arg1_element:  1\n",
      "output of sum function with arg2:  [2, 2, 2]\n",
      "total_sum:  6\n",
      "output of sum function with arg2:  [2, 2, 2]\n",
      "total_sum:  6\n",
      "output of sum function with arg2:  [2, 2, 2]\n",
      "total_sum:  6\n",
      "arg1_element:  2\n",
      "output of sum function with arg2:  [3, 3, 3]\n",
      "total_sum:  9\n",
      "output of sum function with arg2:  [3, 3, 3]\n",
      "total_sum:  9\n",
      "output of sum function with arg2:  [3, 3, 3]\n",
      "total_sum:  9\n",
      "arg1_element:  3\n",
      "output of sum function with arg2:  [4, 4, 4]\n",
      "total_sum:  12\n",
      "output of sum function with arg2:  [4, 4, 4]\n",
      "total_sum:  12\n",
      "output of sum function with arg2:  [4, 4, 4]\n",
      "total_sum:  12\n",
      "1.a FINAL ANSWER:  [6, 9, 12]\n"
     ]
    }
   ],
   "source": [
    "#1.a Using Print to find the bug\n",
    "\n",
    "arg1 = [1,2,3]\n",
    "arg2 = [1,1,1]\n",
    "\n",
    "def wrong_add_function(arg1, arg2):\n",
    "    arg1_index=0\n",
    "    while arg1_index < len(arg1):\n",
    "        print(\"arg1_element: \", arg1[arg1_index])\n",
    "        arg_2_sum = 0\n",
    "        for arg2_elements in arg2:\n",
    "            #sum function is uneccesary because it is repeating with every iteration of the for loop.\n",
    "            #sum function returns a list, which is then summed for the total_sum (6, 9, 12). \n",
    "            print(\"output of sum function with arg2: \", [arg1[arg1_index]+i for i in arg2])\n",
    "            arg_2_sum = sum([arg1[arg1_index]+i for i in arg2])\n",
    "            print(\"total_sum: \", arg_2_sum) \n",
    "        #this needs a += becasue the = is overriding the sum every time without arg1 elements.\n",
    "        arg1[arg1_index]=arg_2_sum\n",
    "        arg1_index+=1\n",
    "    return arg1\n",
    "\n",
    "print(\"1.a FINAL ANSWER: \", wrong_add_function(arg1, arg2))"
   ]
  },
  {
   "cell_type": "code",
   "execution_count": 2,
   "id": "78c9b322-9e1f-44f8-8a21-17d308d5e9a9",
   "metadata": {},
   "outputs": [
    {
     "name": "stdout",
     "output_type": "stream",
     "text": [
      "1.b FINAL ANSWER:  [4, 5, 6]\n",
      "1.b CONFUSED ANSWER:  [2, 3, 4]\n"
     ]
    }
   ],
   "source": [
    "#1.b Correcting the bug\n",
    "\n",
    "arg1 = [1,2,3]\n",
    "arg2 = [1,1,1]\n",
    "\n",
    "def correct_add_function(arg1, arg2):\n",
    "    arg1_index=0\n",
    "    while arg1_index < len(arg1):\n",
    "        arg_2_sum = 0\n",
    "        for arg2_elements in arg2:\n",
    "            #replacement without sum function\n",
    "            arg_2_sum += arg2_elements\n",
    "        #change to a += to avoid override\n",
    "        arg1[arg1_index]+=arg_2_sum\n",
    "        arg1_index+=1\n",
    "    return arg1\n",
    "\n",
    "print(\"1.b FINAL ANSWER: \", correct_add_function(arg1, arg2))\n",
    "\n",
    "### I was confused becuase in the assignment file stated that the correct answer was 2,3,4\n",
    "### but that was not the answer for the intended function. I still wrote a function to give 2,3,4:\n",
    "\n",
    "arg1 = [1,2,3]\n",
    "arg2 = [1,1,1]\n",
    "\n",
    "def confused_add_function(arg1, arg2):\n",
    "    arg1_index=0\n",
    "    while arg1_index < len(arg1):\n",
    "        arg_2_sum = 0\n",
    "        for arg2_elements in arg2:\n",
    "            arg_2_sum = arg1[arg1_index]+arg2[arg1_index]\n",
    "        arg1[arg1_index]=arg_2_sum\n",
    "        arg1_index+=1\n",
    "    return arg1\n",
    "\n",
    "print(\"1.b CONFUSED ANSWER: \", confused_add_function(arg1, arg2))"
   ]
  },
  {
   "cell_type": "code",
   "execution_count": 3,
   "id": "8fd8ac3c-d2f5-4ae0-941e-980cd283e794",
   "metadata": {
    "scrolled": true
   },
   "outputs": [
    {
     "name": "stdout",
     "output_type": "stream",
     "text": [
      "The element 0 in one of the arguments is not of the expected type. Please change this and rerun.\n",
      "None\n"
     ]
    }
   ],
   "source": [
    "#2.a Using try, except to return a bug\n",
    "\n",
    "arg1=['1','2','3']\n",
    "arg2=['1','1',1]\n",
    "\n",
    "def exception_add_function(arg1, arg2):\n",
    "    '''\n",
    "    if sum([type(i)==int for i in arg1])==len(arg1) and \\\n",
    "    sum([type(i)==int for i in arg2])==len(arg2):\n",
    "    '''\n",
    "    try:\n",
    "        arg1_index=0\n",
    "        while arg1_index < len(arg1):\n",
    "            arg_2_sum = 0\n",
    "            for arg2_elements in arg2:\n",
    "                arg_2_sum += arg2_elements\n",
    "            arg1[arg1_index]+=arg_2_sum\n",
    "            arg1_index+=1\n",
    "        return arg1\n",
    "    except: \n",
    "        print(\"The element\" + f\" {arg1_index} \" + \"in one of the arguments is not of the expected type. Please change this and rerun.\")\n",
    "    '''\n",
    "    elif sum([type(i)==str for i in arg1])==len(arg1) and \\\n",
    "    sum([type(i)==str for i in arg2])==len(arg2):\n",
    "        arg1_index=0\n",
    "        while arg1_index < len(arg1):\n",
    "            arg_2_sum = ''\n",
    "            for arg2_elements in arg2:\n",
    "                arg_2_sum += arg2_elements\n",
    "            arg1[arg1_index]=arg1[arg1_index]+str(arg_2_sum)\n",
    "            arg1_index+=1\n",
    "        return arg1\n",
    "    '''\n",
    "print(exception_add_function(arg1, arg2))\n",
    "\n",
    "### I worked on this for a long time and know that I am close, but cannot figure out the structure."
   ]
  },
  {
   "cell_type": "code",
   "execution_count": 4,
   "id": "effca2c0-e4b2-43b3-bd96-48093a62f882",
   "metadata": {},
   "outputs": [
    {
     "name": "stdout",
     "output_type": "stream",
     "text": [
      "['1111', '2111', '3111']\n"
     ]
    }
   ],
   "source": [
    "#2.b Using try, except to fix a bug\n",
    "\n",
    "arg1=['1','2','3']\n",
    "arg2=['1','1',1]\n",
    "\n",
    "def correction_add_function(arg1, arg2):\n",
    "    \n",
    "    #if sum([type(i)==int for i in arg1])==len(arg1) and \\\n",
    "    #sum([type(i)==int for i in arg2])==len(arg2):\n",
    "    try:\n",
    "        arg1_index=0\n",
    "        while arg1_index < len(arg1):\n",
    "            arg_2_sum = 0\n",
    "            for arg2_elements in arg2:\n",
    "                arg_2_sum += arg2_elements\n",
    "            arg1[arg1_index]+=arg_2_sum\n",
    "            arg1_index+=1\n",
    "        return arg1\n",
    "    except: \n",
    "        str_list = []\n",
    "        for i in arg1:\n",
    "            str_list.append(str(i))\n",
    "        arg1 = str_list\n",
    "        str_list2 = []\n",
    "        for i in arg2:\n",
    "            str_list2.append(str(i))\n",
    "        arg2 = str_list2 \n",
    "    \n",
    "    #elif sum([type(i)==str for i in arg1])==len(arg1) and \\\n",
    "    #sum([type(i)==str for i in arg2])==len(arg2): '''\n",
    "        arg1_index=0\n",
    "        while arg1_index < len(arg1):\n",
    "            arg_2_sum = ''\n",
    "            for arg2_elements in arg2:\n",
    "                arg_2_sum += arg2_elements\n",
    "            arg1[arg1_index]=arg1[arg1_index]+str(arg_2_sum)\n",
    "            arg1_index+=1\n",
    "        return arg1\n",
    "        \n",
    "print(correction_add_function(arg1, arg2))\n",
    "\n",
    "### I had the same issue with this one as I did 2.a, but I beleive I'm on the right track.  "
   ]
  }
 ],
 "metadata": {
  "kernelspec": {
   "display_name": "Python 3 (ipykernel)",
   "language": "python",
   "name": "python3"
  },
  "language_info": {
   "codemirror_mode": {
    "name": "ipython",
    "version": 3
   },
   "file_extension": ".py",
   "mimetype": "text/x-python",
   "name": "python",
   "nbconvert_exporter": "python",
   "pygments_lexer": "ipython3",
   "version": "3.13.0"
  }
 },
 "nbformat": 4,
 "nbformat_minor": 5
}
